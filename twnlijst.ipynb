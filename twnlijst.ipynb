{
 "cells": [
  {
   "cell_type": "code",
   "execution_count": null,
   "metadata": {},
   "outputs": [],
   "source": [
    "import pandas as pd\n",
    "import numpy as np"
   ]
  },
  {
   "cell_type": "code",
   "execution_count": null,
   "metadata": {},
   "outputs": [],
   "source": [
    "df = pd.read_excel(\"DataBase/Biodiversity/TWNlijst.xlsx\")"
   ]
  },
  {
   "cell_type": "code",
   "execution_count": null,
   "metadata": {},
   "outputs": [],
   "source": [
    "#TASK:\n",
    "#There have been changes in naming over the years. The TWN list indicates the most recent name with status code 10. \n",
    "#If a name is out of date, the status code has been changed to 20 and under refername you can see what the new name is. \n",
    "#Update all taxa in the dataset to the most recent name.\n",
    "\n",
    "df.loc[df['status'] == 20]\n",
    "df['taxonname'] = np.where(df['status'] == 20, df['refername'], df['taxonname'])\n",
    "df = df.drop(columns=['refername'])\n",
    "df.loc[df['status'] == 20]"
   ]
  }
 ],
 "metadata": {
  "kernelspec": {
   "display_name": "Python 3",
   "language": "python",
   "name": "python3"
  },
  "language_info": {
   "codemirror_mode": {
    "name": "ipython",
    "version": 3
   },
   "file_extension": ".py",
   "mimetype": "text/x-python",
   "name": "python",
   "nbconvert_exporter": "python",
   "pygments_lexer": "ipython3",
   "version": "3.11.1"
  },
  "orig_nbformat": 4
 },
 "nbformat": 4,
 "nbformat_minor": 2
}
