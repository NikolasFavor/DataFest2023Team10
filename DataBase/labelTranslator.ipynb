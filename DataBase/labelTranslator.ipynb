{
 "cells": [
  {
   "cell_type": "code",
   "execution_count": 16,
   "metadata": {},
   "outputs": [
    {
     "name": "stderr",
     "output_type": "stream",
     "text": [
      "C:\\Users\\lordn\\AppData\\Local\\Temp\\ipykernel_28444\\1416375808.py:17: DtypeWarning: Columns (22,26) have mixed types. Specify dtype option on import or set low_memory=False.\n",
      "  df = pd.read_csv('Biodiversity\\\\' + file + '.csv', delimiter=';')\n"
     ]
    }
   ],
   "source": [
    "import pandas as pd\n",
    "import pprint as pp\n",
    "\n",
    "translationXls = pd.ExcelFile('Biodiversity\\Metadata_translation.xlsx')\n",
    "translationXls = translationXls.parse(translationXls.sheet_names[0])\n",
    "translationXls = translationXls[['Label orginal', 'Label translated']]\n",
    "translationDict = translationXls.to_dict()\n",
    "translationDict = dict(zip(list(translationDict['Label orginal'].values()), list(translationDict['Label translated'].values())))\n",
    "\n",
    "biodiversity_files = ['Macrozoöbenthos_Zeeland_Aquadesk',\n",
    "         'Fytoplankton_Diatomeeën_Zeeland_Aquadesk',\n",
    "         'Diatomeeën_Zeeland_Aquadesk',\n",
    "         'Macroalgen_Zeeland_Aquadesk',\n",
    "         'Waterplanten_Zeeland_Aquadesk']\n",
    "\n",
    "for file in biodiversity_files:\n",
    "    df = pd.read_csv('Biodiversity\\\\' + file + '.csv', delimiter=';')\n",
    "    df.rename(columns=translationDict, inplace=True)\n",
    "    df.to_csv('Biodiversity\\Translated\\\\' + file + '_Translated.csv', sep = ';')"
   ]
  },
  {
   "cell_type": "code",
   "execution_count": null,
   "metadata": {},
   "outputs": [],
   "source": []
  }
 ],
 "metadata": {
  "kernelspec": {
   "display_name": "base",
   "language": "python",
   "name": "python3"
  },
  "language_info": {
   "codemirror_mode": {
    "name": "ipython",
    "version": 3
   },
   "file_extension": ".py",
   "mimetype": "text/x-python",
   "name": "python",
   "nbconvert_exporter": "python",
   "pygments_lexer": "ipython3",
   "version": "3.9.13"
  },
  "orig_nbformat": 4
 },
 "nbformat": 4,
 "nbformat_minor": 2
}
