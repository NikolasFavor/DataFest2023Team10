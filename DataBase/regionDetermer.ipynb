{
 "cells": [
  {
   "cell_type": "code",
   "execution_count": 25,
   "metadata": {},
   "outputs": [
    {
     "ename": "FileNotFoundError",
     "evalue": "[Errno 2] No such file or directory: './json/demofile2.json'",
     "output_type": "error",
     "traceback": [
      "\u001b[0;31m---------------------------------------------------------------------------\u001b[0m",
      "\u001b[0;31mFileNotFoundError\u001b[0m                         Traceback (most recent call last)",
      "Cell \u001b[0;32mIn[25], line 38\u001b[0m\n\u001b[1;32m     34\u001b[0m     features_by_cords[key]\u001b[39m.\u001b[39mappend(\u001b[39mdict\u001b[39m(row))\n\u001b[1;32m     37\u001b[0m xxx \u001b[39m=\u001b[39m json\u001b[39m.\u001b[39mdumps(features_by_cords)\n\u001b[0;32m---> 38\u001b[0m f \u001b[39m=\u001b[39m \u001b[39mopen\u001b[39;49m(\u001b[39m\"\u001b[39;49m\u001b[39m./json/demofile2.json\u001b[39;49m\u001b[39m\"\u001b[39;49m, \u001b[39m\"\u001b[39;49m\u001b[39ma\u001b[39;49m\u001b[39m\"\u001b[39;49m)\n\u001b[1;32m     39\u001b[0m f\u001b[39m.\u001b[39mwrite(xxx)\n\u001b[1;32m     40\u001b[0m f\u001b[39m.\u001b[39mclose()\n",
      "File \u001b[0;32m/Library/Frameworks/Python.framework/Versions/3.11/lib/python3.11/site-packages/IPython/core/interactiveshell.py:282\u001b[0m, in \u001b[0;36m_modified_open\u001b[0;34m(file, *args, **kwargs)\u001b[0m\n\u001b[1;32m    275\u001b[0m \u001b[39mif\u001b[39;00m file \u001b[39min\u001b[39;00m {\u001b[39m0\u001b[39m, \u001b[39m1\u001b[39m, \u001b[39m2\u001b[39m}:\n\u001b[1;32m    276\u001b[0m     \u001b[39mraise\u001b[39;00m \u001b[39mValueError\u001b[39;00m(\n\u001b[1;32m    277\u001b[0m         \u001b[39mf\u001b[39m\u001b[39m\"\u001b[39m\u001b[39mIPython won\u001b[39m\u001b[39m'\u001b[39m\u001b[39mt let you open fd=\u001b[39m\u001b[39m{\u001b[39;00mfile\u001b[39m}\u001b[39;00m\u001b[39m by default \u001b[39m\u001b[39m\"\u001b[39m\n\u001b[1;32m    278\u001b[0m         \u001b[39m\"\u001b[39m\u001b[39mas it is likely to crash IPython. If you know what you are doing, \u001b[39m\u001b[39m\"\u001b[39m\n\u001b[1;32m    279\u001b[0m         \u001b[39m\"\u001b[39m\u001b[39myou can use builtins\u001b[39m\u001b[39m'\u001b[39m\u001b[39m open.\u001b[39m\u001b[39m\"\u001b[39m\n\u001b[1;32m    280\u001b[0m     )\n\u001b[0;32m--> 282\u001b[0m \u001b[39mreturn\u001b[39;00m io_open(file, \u001b[39m*\u001b[39;49margs, \u001b[39m*\u001b[39;49m\u001b[39m*\u001b[39;49mkwargs)\n",
      "\u001b[0;31mFileNotFoundError\u001b[0m: [Errno 2] No such file or directory: './json/demofile2.json'"
     ]
    }
   ],
   "source": [
    "import pandas as pd\n",
    "import json\n",
    "from shapely.geometry import shape, Point\n",
    "\n",
    "biodiversity_files = ['Macrozoöbenthos_Zeeland_Aquadesk',\n",
    "         'Fytoplankton_Diatomeeën_Zeeland_Aquadesk',\n",
    "         'Diatomeeën_Zeeland_Aquadesk',\n",
    "         'Macroalgen_Zeeland_Aquadesk',\n",
    "         'Waterplanten_Zeeland_Aquadesk']\n",
    "\n",
    "# load GeoJSON file containing provinces\n",
    "with open('provinces.geojson') as f:\n",
    "    provinces = json.load(f)\n",
    "\n",
    "df = pd.read_csv('./Biodiversity/Translated/' + biodiversity_files[4] + '_Translated.csv', delimiter=';')\n",
    "points = dict(df['locationgeography.coordinates'])\n",
    "x_coordinates, y_coordinates = [], []\n",
    "for key in points:\n",
    "    point = points[key][6:-1].split()\n",
    "    y_coordinates.append(float(point[1]))\n",
    "    x_coordinates.append(float(point[0]))\n",
    "df['y_coordinates'] = y_coordinates\n",
    "df['x_coordinates'] = x_coordinates\n",
    "\n",
    "df = df.reset_index()  # make sure indexes pair with number of rows\n",
    "features_by_cords = {}\n",
    "\n",
    "for index, row in df.iterrows():\n",
    "    key = str(row['y_coordinates']) + ':' + str(row['x_coordinates'])\n",
    "\n",
    "    if (key not in features_by_cords):\n",
    "        features_by_cords[key] = []\n",
    "\n",
    "    features_by_cords[key].append(dict(row))\n",
    "\n",
    "\n",
    "xxx = json.dumps(features_by_cords)\n",
    "f = open(\"./json/features_by_cords.json\", \"a\")\n",
    "f.write(xxx)\n",
    "f.close()\n",
    "\n",
    "# df.to_json('./Biodiversity/json/' + biodiversity_files[0] + '_Separated_Points.json')\n",
    "    \n",
    "        \n",
    "\n",
    "# check each polygon to see if it contains the point\n",
    "#for entry in entries:\n",
    "#    polygon_found = False\n",
    "#    for feature in js['features']:\n",
    "#        polygon = shape(feature['geometry'])\n",
    "#        if polygon.contains(entry):\n",
    "#            polygon_found = True\n",
    "#            print('Found containing polygon:', feature['properties']['name'])\n",
    "#    if polygon_found == False:\n",
    "#        print('No polygon contains:', )\n",
    "    "
   ]
  }
 ],
 "metadata": {
  "kernelspec": {
   "display_name": "base",
   "language": "python",
   "name": "python3"
  },
  "language_info": {
   "codemirror_mode": {
    "name": "ipython",
    "version": 3
   },
   "file_extension": ".py",
   "mimetype": "text/x-python",
   "name": "python",
   "nbconvert_exporter": "python",
   "pygments_lexer": "ipython3",
   "version": "3.11.1"
  },
  "orig_nbformat": 4
 },
 "nbformat": 4,
 "nbformat_minor": 2
}
