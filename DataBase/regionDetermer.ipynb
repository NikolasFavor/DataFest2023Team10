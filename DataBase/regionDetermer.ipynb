{
 "cells": [
  {
   "cell_type": "code",
   "execution_count": 14,
   "metadata": {},
   "outputs": [],
   "source": [
    "import pandas as pd\n",
    "import json\n",
    "from shapely.geometry import shape, Point\n",
    "\n",
    "biodiversity_files = ['Macrozoöbenthos_Zeeland_Aquadesk',\n",
    "         'Fytoplankton_Diatomeeën_Zeeland_Aquadesk',\n",
    "         'Diatomeeën_Zeeland_Aquadesk',\n",
    "         'Macroalgen_Zeeland_Aquadesk',\n",
    "         'Waterplanten_Zeeland_Aquadesk']\n",
    "\n",
    "# load GeoJSON file containing provinces\n",
    "with open('provinces.geojson') as f:\n",
    "    provinces = json.load(f)\n",
    "\n",
    "df = pd.read_csv('Biodiversity\\Translated\\\\' + biodiversity_files[0] + '_Translated.csv', delimiter=';')\n",
    "points = dict(df['locationgeography.coordinates'])\n",
    "x_coordinates, y_coordinates = [], []\n",
    "for key in points:\n",
    "    point = points[key][6:-1].split()\n",
    "    y_coordinates.append(float(point[1]))\n",
    "    x_coordinates.append(float(point[0]))\n",
    "df['y_coordinates'] = y_coordinates\n",
    "df['x_coordinates'] = x_coordinates\n",
    "df.to_json('Biodiversity\\json\\\\' + biodiversity_files[0] + '_Separated_Points.json')\n",
    "    \n",
    "        \n",
    "\n",
    "# check each polygon to see if it contains the point\n",
    "#for entry in entries:\n",
    "#    polygon_found = False\n",
    "#    for feature in js['features']:\n",
    "#        polygon = shape(feature['geometry'])\n",
    "#        if polygon.contains(entry):\n",
    "#            polygon_found = True\n",
    "#            print('Found containing polygon:', feature['properties']['name'])\n",
    "#    if polygon_found == False:\n",
    "#        print('No polygon contains:', )\n",
    "    "
   ]
  }
 ],
 "metadata": {
  "kernelspec": {
   "display_name": "base",
   "language": "python",
   "name": "python3"
  },
  "language_info": {
   "codemirror_mode": {
    "name": "ipython",
    "version": 3
   },
   "file_extension": ".py",
   "mimetype": "text/x-python",
   "name": "python",
   "nbconvert_exporter": "python",
   "pygments_lexer": "ipython3",
   "version": "3.9.13"
  },
  "orig_nbformat": 4
 },
 "nbformat": 4,
 "nbformat_minor": 2
}
