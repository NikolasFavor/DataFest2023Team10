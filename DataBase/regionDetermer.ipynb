{
 "cells": [
  {
   "cell_type": "code",
   "execution_count": 4,
   "metadata": {},
   "outputs": [
    {
     "name": "stderr",
     "output_type": "stream",
     "text": [
      "/var/folders/zw/2z7q0_l109x4mspjfc9xm94w0000gn/T/ipykernel_20306/2520693382.py:18: DtypeWarning: Columns (23,27) have mixed types. Specify dtype option on import or set low_memory=False.\n",
      "  df = pd.read_csv('./Biodiversity/Translated/' + file + '_Translated.csv', delimiter=';')\n"
     ]
    }
   ],
   "source": [
    "import pandas as pd\n",
    "import json\n",
    "from shapely.geometry import shape, Point\n",
    "\n",
    "biodiversity_files = ['Macrozoöbenthos_Zeeland_Aquadesk',\n",
    "         'Fytoplankton_Diatomeeën_Zeeland_Aquadesk',\n",
    "         'Diatomeeën_Zeeland_Aquadesk',\n",
    "         'Macroalgen_Zeeland_Aquadesk',\n",
    "         'Waterplanten_Zeeland_Aquadesk']\n",
    "\n",
    "# load GeoJSON file containing provinces\n",
    "# with open('provinces.geojson') as f:\n",
    "#     provinces = json.load(f)\n",
    "\n",
    "features_by_cords = {}\n",
    "\n",
    "for file in biodiversity_files:\n",
    "    df = pd.read_csv('./Biodiversity/Translated/' + file + '_Translated.csv', delimiter=';')\n",
    "\n",
    "    df[~df['locationgeography.coordinates'].str.startswith('P')]\n",
    "    #df.drop(['', ''], axis=1)\n",
    "\n",
    "    points = dict(df['locationgeography.coordinates'])\n",
    "    x_coordinates, y_coordinates = [], []\n",
    "\n",
    "    for key in points:\n",
    "        point = points[key][6:-1].split()\n",
    "        y_coordinates.append(float(point[1]))\n",
    "        x_coordinates.append(float(point[0]))\n",
    "    df['y_coordinates'] = y_coordinates\n",
    "    df['x_coordinates'] = x_coordinates\n",
    "\n",
    "    df.drop(df[df['x_coordinates'] >= 6].index, inplace = True)\n",
    "\n",
    "    df = df.reset_index()  # make sure indexes pair with number of rows\n",
    "\n",
    "\n",
    "    for index, row in df.iterrows():\n",
    "        key = str(row['y_coordinates']) + ':' + str(row['x_coordinates'])\n",
    "\n",
    "        if (key not in features_by_cords):\n",
    "            features_by_cords[key] = []\n",
    "\n",
    "        feature = dict(row)\n",
    "        features_by_cords[key].append(feature)\n",
    "\n",
    "\n",
    "xxx = json.dumps(features_by_cords, skipkeys=True)\n",
    "f = open(\"./Biodiversity/json/features_by_cords.json\", \"a\")\n",
    "f.write(xxx)\n",
    "f.close()\n",
    "\n",
    "# df.to_json('./Biodiversity/json/' + biodiversity_files[0] + '_Separated_Points.json')\n",
    "    \n",
    "        \n",
    "\n",
    "# check each polygon to see if it contains the point\n",
    "#for entry in entries:\n",
    "#    polygon_found = False\n",
    "#    for feature in js['features']:\n",
    "#        polygon = shape(feature['geometry'])\n",
    "#        if polygon.contains(entry):\n",
    "#            polygon_found = True\n",
    "#            print('Found containing polygon:', feature['properties']['name'])\n",
    "#    if polygon_found == False:\n",
    "#        print('No polygon contains:', )\n",
    "    "
   ]
  }
 ],
 "metadata": {
  "kernelspec": {
   "display_name": "base",
   "language": "python",
   "name": "python3"
  },
  "language_info": {
   "codemirror_mode": {
    "name": "ipython",
    "version": 3
   },
   "file_extension": ".py",
   "mimetype": "text/x-python",
   "name": "python",
   "nbconvert_exporter": "python",
   "pygments_lexer": "ipython3",
   "version": "3.11.1"
  },
  "orig_nbformat": 4
 },
 "nbformat": 4,
 "nbformat_minor": 2
}
