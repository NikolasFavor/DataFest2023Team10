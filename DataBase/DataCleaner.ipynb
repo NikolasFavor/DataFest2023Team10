{
 "cells": [
  {
   "cell_type": "code",
   "execution_count": null,
   "metadata": {},
   "outputs": [],
   "source": [
    "import pandas as pd\n",
    "\n",
    "biodiversity_files = ['Macrozoöbenthos_Zeeland_Aquadesk',\n",
    "         'Fytoplankton_Diatomeeën_Zeeland_Aquadesk',\n",
    "         'Diatomeeën_Zeeland_Aquadesk',\n",
    "         'Macroalgen_Zeeland_Aquadesk',\n",
    "         'Waterplanten_Zeeland_Aquadesk']\n",
    "\n",
    "df = pd.read_csv('./Biodiversity/Translated/' + biodiversity_files[0] + '_Translated.csv', delimiter=';')"
   ]
  }
 ],
 "metadata": {
  "language_info": {
   "name": "python"
  },
  "orig_nbformat": 4
 },
 "nbformat": 4,
 "nbformat_minor": 2
}
